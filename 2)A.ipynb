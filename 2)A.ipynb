{
  "cells": [
    {
      "cell_type": "markdown",
      "metadata": {
        "id": "view-in-github",
        "colab_type": "text"
      },
      "source": [
        "<a href=\"https://colab.research.google.com/github/VictorSilvaCamargo/Exercicio-1/blob/main/2)A.ipynb\" target=\"_parent\"><img src=\"https://colab.research.google.com/assets/colab-badge.svg\" alt=\"Open In Colab\"/></a>"
      ]
    },
    {
      "cell_type": "code",
      "source": [
        "def angulo_minimo():\n",
        "    comprimento=3\n",
        "    grau_minimo=0.25\n",
        "    resultado = 3 * 0.25\n",
        "    return resultado\n",
        "\n",
        "altura_minima=angulo_minimo()\n",
        "print(\"A altura minima para 3 metros de comprimento do telhado deve ser de\",altura_minima,\"metros\")"
      ],
      "metadata": {
        "id": "lMtXR8CjHCS1"
      },
      "execution_count": null,
      "outputs": []
    }
  ],
  "metadata": {
    "colab": {
      "name": "Olá, este é o Colaboratory",
      "toc_visible": true,
      "provenance": [],
      "include_colab_link": true
    },
    "kernelspec": {
      "display_name": "Python 3",
      "name": "python3"
    }
  },
  "nbformat": 4,
  "nbformat_minor": 0
}