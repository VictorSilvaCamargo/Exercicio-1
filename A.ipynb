{
  "cells": [
    {
      "cell_type": "markdown",
      "metadata": {
        "id": "view-in-github",
        "colab_type": "text"
      },
      "source": [
        "<a href=\"https://colab.research.google.com/github/VictorSilvaCamargo/Exercicio-1/blob/main/A.ipynb\" target=\"_parent\"><img src=\"https://colab.research.google.com/assets/colab-badge.svg\" alt=\"Open In Colab\"/></a>"
      ]
    },
    {
      "cell_type": "code",
      "source": [
        "import math \n",
        "tangente = 200/50\n",
        "\n",
        "graus_radianos = math.atan(tangente) #converte o valar da tangente em graus radianos\n",
        "\n",
        "graus = math.degrees(graus_radianos)  #converte graus radianos em graus\n",
        "\n",
        "print(\"O angulo em que a camera deve estar e de aproximadamente\",graus,\"graus\")"
      ],
      "metadata": {
        "id": "quxgxpnywyNG"
      },
      "execution_count": null,
      "outputs": []
    }
  ],
  "metadata": {
    "colab": {
      "name": "Olá, este é o Colaboratory",
      "toc_visible": true,
      "provenance": [],
      "include_colab_link": true
    },
    "kernelspec": {
      "display_name": "Python 3",
      "name": "python3"
    }
  },
  "nbformat": 4,
  "nbformat_minor": 0
}