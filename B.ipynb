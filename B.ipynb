{
  "cells": [
    {
      "cell_type": "markdown",
      "metadata": {
        "id": "view-in-github",
        "colab_type": "text"
      },
      "source": [
        "<a href=\"https://colab.research.google.com/github/VictorSilvaCamargo/Exercicio-1/blob/main/B.ipynb\" target=\"_parent\"><img src=\"https://colab.research.google.com/assets/colab-badge.svg\" alt=\"Open In Colab\"/></a>"
      ]
    },
    {
      "cell_type": "code",
      "source": [
        "import math\n",
        "\n",
        "\n",
        "def angulo(altura):\n",
        "  tangente = altura/50\n",
        "  angulo_rad = math.atan(tangente)\n",
        "  angulo_graus = math.degrees(angulo_rad)\n",
        "  return angulo_graus\n",
        "\n",
        "print(\"digite a altura do foguete\")\n",
        "resultado = angulo(int(input()))\n",
        "print(\"o angulo deve se ajustado em\",resultado,\"graus\")\n"
      ],
      "metadata": {
        "id": "b44maUieBBKA",
        "outputId": "de17e68a-d95a-46bd-9bac-3b309743adf3",
        "colab": {
          "base_uri": "https://localhost:8080/"
        }
      },
      "execution_count": 33,
      "outputs": [
        {
          "output_type": "stream",
          "name": "stdout",
          "text": [
            "digite a altura do foguete\n",
            "100\n",
            "o angulo deve se ajustado em 63.43494882292201 graus\n"
          ]
        }
      ]
    },
    {
      "cell_type": "code",
      "source": [],
      "metadata": {
        "id": "VYObRa7MDYGI"
      },
      "execution_count": null,
      "outputs": []
    }
  ],
  "metadata": {
    "colab": {
      "name": "Olá, este é o Colaboratory",
      "toc_visible": true,
      "provenance": [],
      "include_colab_link": true
    },
    "kernelspec": {
      "display_name": "Python 3",
      "name": "python3"
    }
  },
  "nbformat": 4,
  "nbformat_minor": 0
}