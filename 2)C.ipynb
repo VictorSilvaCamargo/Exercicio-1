{
  "cells": [
    {
      "cell_type": "markdown",
      "metadata": {
        "id": "view-in-github",
        "colab_type": "text"
      },
      "source": [
        "<a href=\"https://colab.research.google.com/github/VictorSilvaCamargo/Exercicio-1/blob/main/2)C.ipynb\" target=\"_parent\"><img src=\"https://colab.research.google.com/assets/colab-badge.svg\" alt=\"Open In Colab\"/></a>"
      ]
    },
    {
      "cell_type": "code",
      "source": [
        "import math\n",
        "import matplotlib.pyplot as plt\n",
        "\n",
        "def altura_telhado(comprimento):\n",
        "    altura = comprimento * 0.25\n",
        "    return altura\n",
        "\n",
        "\n",
        "def desenhar_triangulo(altura,comprimento):\n",
        "    # Calcular os três pontos do triângulo\n",
        "    x1, y1 = 0, 0\n",
        "    x2, y2 = comprimento, 0\n",
        "    x3, y3 = comprimento,altura\n",
        "    \n",
        "    # Plotar o triângulo\n",
        "    plt.plot([x1, x2], [y1, y2], 'k')\n",
        "    plt.plot([x2, x3], [y2, y3], 'k')\n",
        "    plt.plot([x3, x1], [y3, y1], 'k')\n",
        "    \n",
        "    # Configurar o gráfico\n",
        "    plt.xlim([-1, 8])\n",
        "    plt.ylim([-1, altura+1])\n",
        "    plt.title('Telhado com alturaa minima de {} metros'.format(altura))\n",
        "    plt.grid(True)\n",
        "    plt.show()\n",
        "\n",
        "for comprimento in range(2,8):\n",
        "  altura = altura_telhado(comprimento)\n",
        "  desenhar_triangulo(altura,comprimento)"
      ],
      "metadata": {
        "id": "lMtXR8CjHCS1"
      },
      "execution_count": null,
      "outputs": []
    }
  ],
  "metadata": {
    "colab": {
      "name": "Olá, este é o Colaboratory",
      "toc_visible": true,
      "provenance": [],
      "include_colab_link": true
    },
    "kernelspec": {
      "display_name": "Python 3",
      "name": "python3"
    }
  },
  "nbformat": 4,
  "nbformat_minor": 0
}