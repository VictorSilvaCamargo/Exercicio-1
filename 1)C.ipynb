{
  "cells": [
    {
      "cell_type": "markdown",
      "metadata": {
        "id": "view-in-github",
        "colab_type": "text"
      },
      "source": [
        "<a href=\"https://colab.research.google.com/github/VictorSilvaCamargo/Exercicio-1/blob/main/1)C.ipynb\" target=\"_parent\"><img src=\"https://colab.research.google.com/assets/colab-badge.svg\" alt=\"Open In Colab\"/></a>"
      ]
    },
    {
      "cell_type": "code",
      "source": [
        "import math\n",
        "import matplotlib.pyplot as plt\n",
        "\n",
        "def angulo(altura):\n",
        "    tangente = altura/50\n",
        "    angulo_rad = math.atan(tangente)\n",
        "    angulo_graus = math.degrees(angulo_rad)\n",
        "    return angulo_graus\n",
        "    \n",
        "\n",
        "def desenhar_triangulo(altura):\n",
        "    # Calcular os três pontos do triângulo\n",
        "    x1, y1 = 0, 0\n",
        "    x2, y2 = 50, 0\n",
        "    x3, y3 = altura/math.tan(math.radians(angulo(altura))), altura\n",
        "    \n",
        "    # Plotar o triângulo\n",
        "    plt.plot([x1, x2], [y1, y2], 'k')\n",
        "    plt.plot([x2, x3], [y2, y3], 'k')\n",
        "    plt.plot([x3, x1], [y3, y1], 'k')\n",
        "    \n",
        "    # Configurar o gráfico\n",
        "    plt.xlim([-10, 60])\n",
        "    plt.ylim([-10, altura+10])\n",
        "    plt.title('Foguete com altura de {} metros'.format(altura))\n",
        "    plt.grid(True)\n",
        "    plt.show()\n",
        "    \n",
        "print(\"Digite a altura em que o  foguete esta\")\n",
        "altura = int(input())\n",
        "desenhar_triangulo(altura)\n",
        "resultado = angulo(altura)\n",
        "print(\"Voce deve ajustar o angulo em\",resultado,\"graus\")"
      ],
      "metadata": {
        "colab": {
          "base_uri": "https://localhost:8080/",
          "height": 333
        },
        "id": "-goL0CSS4UI-",
        "outputId": "80197141-2a61-4382-a350-e71d54a037c3"
      },
      "execution_count": 17,
      "outputs": [
        {
          "name": "stdout",
          "output_type": "stream",
          "text": [
            "Digite a altura em que o  foguete esta\n",
            "200\n"
          ]
        },
        {
          "output_type": "display_data",
          "data": {
            "text/plain": [
              "<Figure size 432x288 with 1 Axes>"
            ],
            "image/png": "[encoded data removed]"
          },
          "metadata": {
            "needs_background": "light"
          }
        },
        {
          "output_type": "stream",
          "name": "stdout",
          "text": [
            "voce deve ajustar o angulo em 75.96375653207353 graus\n"
          ]
        }
      ]
    }
  ],
  "metadata": {
    "colab": {
      "name": "Olá, este é o Colaboratory",
      "toc_visible": true,
      "provenance": [],
      "include_colab_link": true
    },
    "kernelspec": {
      "display_name": "Python 3",
      "name": "python3"
    }
  },
  "nbformat": 4,
  "nbformat_minor": 0
}