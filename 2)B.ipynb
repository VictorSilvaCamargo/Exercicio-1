{
  "cells": [
    {
      "cell_type": "markdown",
      "metadata": {
        "id": "view-in-github",
        "colab_type": "text"
      },
      "source": [
        "<a href=\"https://colab.research.google.com/github/VictorSilvaCamargo/Exercicio-1/blob/main/2)B.ipynb\" target=\"_parent\"><img src=\"https://colab.research.google.com/assets/colab-badge.svg\" alt=\"Open In Colab\"/></a>"
      ]
    },
    {
      "cell_type": "code",
      "source": [
        "def angulo_minimo(comprimento):\n",
        "    resultado = comprimento * 0.25\n",
        "    return resultado\n",
        "\n",
        "print(\"Digite o comprimento do telhado\")\n",
        "comprimento=int(input())\n",
        "altura=angulo_minimo(comprimento)\n",
        "print(\"A altura mínima para o telhado de comprimento\",comprimento,\"deverá ser de\",altura,\"metros\")"
      ],
      "metadata": {
        "id": "lMtXR8CjHCS1"
      },
      "execution_count": null,
      "outputs": []
    }
  ],
  "metadata": {
    "colab": {
      "name": "Olá, este é o Colaboratory",
      "toc_visible": true,
      "provenance": [],
      "include_colab_link": true
    },
    "kernelspec": {
      "display_name": "Python 3",
      "name": "python3"
    }
  },
  "nbformat": 4,
  "nbformat_minor": 0
}